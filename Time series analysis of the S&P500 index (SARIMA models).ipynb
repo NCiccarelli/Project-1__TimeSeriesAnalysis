{
 "cells": [
  {
   "cell_type": "markdown",
   "metadata": {},
   "source": [
    "# Section 1.A: Uploading the data in Jupyter notebook"
   ]
  },
  {
   "cell_type": "code",
   "execution_count": 2,
   "metadata": {},
   "outputs": [],
   "source": [
    "import pandas as pd \n",
    "import matplotlib.pyplot as plt \n",
    "import seaborn as sns\n",
    "\n",
    "#Data for the S&p500 is downloaded from Yahoo Finance: https://finance.yahoo.com/quote/%5EGSPC/history?ltr=1\n",
    "df = pd.read_csv('^GSPC.csv')"
   ]
  },
  {
   "cell_type": "code",
   "execution_count": 3,
   "metadata": {},
   "outputs": [
    {
     "data": {
      "text/html": [
       "<div>\n",
       "<style scoped>\n",
       "    .dataframe tbody tr th:only-of-type {\n",
       "        vertical-align: middle;\n",
       "    }\n",
       "\n",
       "    .dataframe tbody tr th {\n",
       "        vertical-align: top;\n",
       "    }\n",
       "\n",
       "    .dataframe thead th {\n",
       "        text-align: right;\n",
       "    }\n",
       "</style>\n",
       "<table border=\"1\" class=\"dataframe\">\n",
       "  <thead>\n",
       "    <tr style=\"text-align: right;\">\n",
       "      <th></th>\n",
       "      <th>Date</th>\n",
       "      <th>Open</th>\n",
       "      <th>High</th>\n",
       "      <th>Low</th>\n",
       "      <th>Close</th>\n",
       "      <th>Adj Close</th>\n",
       "      <th>Volume</th>\n",
       "    </tr>\n",
       "  </thead>\n",
       "  <tbody>\n",
       "    <tr>\n",
       "      <th>0</th>\n",
       "      <td>1928-01-03</td>\n",
       "      <td>17.760000</td>\n",
       "      <td>17.760000</td>\n",
       "      <td>17.760000</td>\n",
       "      <td>17.760000</td>\n",
       "      <td>17.760000</td>\n",
       "      <td>0</td>\n",
       "    </tr>\n",
       "    <tr>\n",
       "      <th>1</th>\n",
       "      <td>1928-01-04</td>\n",
       "      <td>17.719999</td>\n",
       "      <td>17.719999</td>\n",
       "      <td>17.719999</td>\n",
       "      <td>17.719999</td>\n",
       "      <td>17.719999</td>\n",
       "      <td>0</td>\n",
       "    </tr>\n",
       "    <tr>\n",
       "      <th>2</th>\n",
       "      <td>1928-01-05</td>\n",
       "      <td>17.549999</td>\n",
       "      <td>17.549999</td>\n",
       "      <td>17.549999</td>\n",
       "      <td>17.549999</td>\n",
       "      <td>17.549999</td>\n",
       "      <td>0</td>\n",
       "    </tr>\n",
       "    <tr>\n",
       "      <th>3</th>\n",
       "      <td>1928-01-06</td>\n",
       "      <td>17.660000</td>\n",
       "      <td>17.660000</td>\n",
       "      <td>17.660000</td>\n",
       "      <td>17.660000</td>\n",
       "      <td>17.660000</td>\n",
       "      <td>0</td>\n",
       "    </tr>\n",
       "    <tr>\n",
       "      <th>4</th>\n",
       "      <td>1928-01-09</td>\n",
       "      <td>17.500000</td>\n",
       "      <td>17.500000</td>\n",
       "      <td>17.500000</td>\n",
       "      <td>17.500000</td>\n",
       "      <td>17.500000</td>\n",
       "      <td>0</td>\n",
       "    </tr>\n",
       "    <tr>\n",
       "      <th>...</th>\n",
       "      <td>...</td>\n",
       "      <td>...</td>\n",
       "      <td>...</td>\n",
       "      <td>...</td>\n",
       "      <td>...</td>\n",
       "      <td>...</td>\n",
       "      <td>...</td>\n",
       "    </tr>\n",
       "    <tr>\n",
       "      <th>23323</th>\n",
       "      <td>2020-11-06</td>\n",
       "      <td>3508.340088</td>\n",
       "      <td>3521.580078</td>\n",
       "      <td>3484.340088</td>\n",
       "      <td>3509.439941</td>\n",
       "      <td>3509.439941</td>\n",
       "      <td>4833950000</td>\n",
       "    </tr>\n",
       "    <tr>\n",
       "      <th>23324</th>\n",
       "      <td>2020-11-09</td>\n",
       "      <td>3583.040039</td>\n",
       "      <td>3645.989990</td>\n",
       "      <td>3547.479980</td>\n",
       "      <td>3550.500000</td>\n",
       "      <td>3550.500000</td>\n",
       "      <td>8556610000</td>\n",
       "    </tr>\n",
       "    <tr>\n",
       "      <th>23325</th>\n",
       "      <td>2020-11-10</td>\n",
       "      <td>3543.260010</td>\n",
       "      <td>3557.219971</td>\n",
       "      <td>3511.909912</td>\n",
       "      <td>3545.530029</td>\n",
       "      <td>3545.530029</td>\n",
       "      <td>6024230000</td>\n",
       "    </tr>\n",
       "    <tr>\n",
       "      <th>23326</th>\n",
       "      <td>2020-11-11</td>\n",
       "      <td>3563.219971</td>\n",
       "      <td>3581.159912</td>\n",
       "      <td>3557.000000</td>\n",
       "      <td>3572.659912</td>\n",
       "      <td>3572.659912</td>\n",
       "      <td>4609970000</td>\n",
       "    </tr>\n",
       "    <tr>\n",
       "      <th>23327</th>\n",
       "      <td>2020-11-12</td>\n",
       "      <td>3562.669922</td>\n",
       "      <td>3569.020020</td>\n",
       "      <td>3518.580078</td>\n",
       "      <td>3537.010010</td>\n",
       "      <td>3537.010010</td>\n",
       "      <td>4890120000</td>\n",
       "    </tr>\n",
       "  </tbody>\n",
       "</table>\n",
       "<p>23328 rows × 7 columns</p>\n",
       "</div>"
      ],
      "text/plain": [
       "             Date         Open         High          Low        Close  \\\n",
       "0      1928-01-03    17.760000    17.760000    17.760000    17.760000   \n",
       "1      1928-01-04    17.719999    17.719999    17.719999    17.719999   \n",
       "2      1928-01-05    17.549999    17.549999    17.549999    17.549999   \n",
       "3      1928-01-06    17.660000    17.660000    17.660000    17.660000   \n",
       "4      1928-01-09    17.500000    17.500000    17.500000    17.500000   \n",
       "...           ...          ...          ...          ...          ...   \n",
       "23323  2020-11-06  3508.340088  3521.580078  3484.340088  3509.439941   \n",
       "23324  2020-11-09  3583.040039  3645.989990  3547.479980  3550.500000   \n",
       "23325  2020-11-10  3543.260010  3557.219971  3511.909912  3545.530029   \n",
       "23326  2020-11-11  3563.219971  3581.159912  3557.000000  3572.659912   \n",
       "23327  2020-11-12  3562.669922  3569.020020  3518.580078  3537.010010   \n",
       "\n",
       "         Adj Close      Volume  \n",
       "0        17.760000           0  \n",
       "1        17.719999           0  \n",
       "2        17.549999           0  \n",
       "3        17.660000           0  \n",
       "4        17.500000           0  \n",
       "...            ...         ...  \n",
       "23323  3509.439941  4833950000  \n",
       "23324  3550.500000  8556610000  \n",
       "23325  3545.530029  6024230000  \n",
       "23326  3572.659912  4609970000  \n",
       "23327  3537.010010  4890120000  \n",
       "\n",
       "[23328 rows x 7 columns]"
      ]
     },
     "execution_count": 3,
     "metadata": {},
     "output_type": "execute_result"
    }
   ],
   "source": [
    "df"
   ]
  },
  {
   "cell_type": "markdown",
   "metadata": {},
   "source": [
    "# Section 1.B: Summary statistics  "
   ]
  },
  {
   "cell_type": "code",
   "execution_count": 4,
   "metadata": {},
   "outputs": [
    {
     "data": {
      "text/plain": [
       "('1928-01-03', '2020-11-12')"
      ]
     },
     "execution_count": 4,
     "metadata": {},
     "output_type": "execute_result"
    }
   ],
   "source": [
    "#The dataset ranges from January 1928 to November 2020: \n",
    "(df.Date.min(),df.Date.max())"
   ]
  },
  {
   "cell_type": "code",
   "execution_count": 5,
   "metadata": {},
   "outputs": [
    {
     "name": "stderr",
     "output_type": "stream",
     "text": [
      "/home/nico/.pyenv/versions/3.7.7/envs/lewagon/lib/python3.7/site-packages/seaborn/distributions.py:2551: FutureWarning: `distplot` is a deprecated function and will be removed in a future version. Please adapt your code to use either `displot` (a figure-level function with similar flexibility) or `histplot` (an axes-level function for histograms).\n",
      "  warnings.warn(msg, FutureWarning)\n"
     ]
    },
    {
     "data": {
      "text/plain": [
       "<AxesSubplot:xlabel='Open', ylabel='Density'>"
      ]
     },
     "execution_count": 5,
     "metadata": {},
     "output_type": "execute_result"
    },
    {
     "data": {
      "image/png": "[encoded data removed]",
      "text/plain": [
       "<Figure size 864x864 with 1 Axes>"
      ]
     },
     "metadata": {
      "needs_background": "light"
     },
     "output_type": "display_data"
    }
   ],
   "source": [
    "#Histogram of the S&P500 index (We use 'Open' as the stock market index):\n",
    "plt.figure(figsize=(12,12))\n",
    "sns.distplot(df['Open'])"
   ]
  },
  {
   "cell_type": "code",
   "execution_count": 8,
   "metadata": {},
   "outputs": [
    {
     "name": "stderr",
     "output_type": "stream",
     "text": [
      "/home/nico/.pyenv/versions/3.7.7/envs/lewagon/lib/python3.7/site-packages/seaborn/_decorators.py:43: FutureWarning: Pass the following variables as keyword args: x, y. From version 0.12, the only valid positional argument will be `data`, and passing other arguments without an explicit keyword will result in an error or misinterpretation.\n",
      "  FutureWarning\n"
     ]
    },
    {
     "data": {
      "text/plain": [
       "<AxesSubplot:xlabel='Date', ylabel='Open'>"
      ]
     },
     "execution_count": 8,
     "metadata": {},
     "output_type": "execute_result"
    },
    {
     "data": {
      "image/png": "[encoded data removed]",
      "text/plain": [
       "<Figure size 864x864 with 1 Axes>"
      ]
     },
     "metadata": {
      "needs_background": "light"
     },
     "output_type": "display_data"
    }
   ],
   "source": [
    "#We restrict the original dataset by sampling randomly with \"pd.sample()\", and we show the scatterplot of 'Open' through time: \n",
    "#WE select 1% of he sample randomly. \n",
    "restricted_dataset = df.sample(233) \n",
    "restricted_dataset = restricted_dataset.sort_values(by='Date')\n",
    "\n",
    "plt.figure(figsize=(12,12))\n",
    "sns.scatterplot(restricted_dataset['Date'], restricted_dataset['Open']) "
   ]
  },
  {
   "cell_type": "code",
   "execution_count": 9,
   "metadata": {},
   "outputs": [],
   "source": [
    "#We create a binary variable taking value 1 if the index increased with respect to the previous day, 0 otherwise:\n",
    "df['lag_open'] =df.Open.shift(1)\n",
    "df['delta_prev_day'] = df.Open - df['lag_open'] \n",
    "df['binary_change'] = df['delta_prev_day'].map(lambda x: 1 if x>=0 else 0)\n",
    "\n",
    "del df['lag_open']\n",
    "#del df['delta_prev_day']"
   ]
  },
  {
   "cell_type": "code",
   "execution_count": 10,
   "metadata": {},
   "outputs": [
    {
     "data": {
      "text/html": [
       "<div>\n",
       "<style scoped>\n",
       "    .dataframe tbody tr th:only-of-type {\n",
       "        vertical-align: middle;\n",
       "    }\n",
       "\n",
       "    .dataframe tbody tr th {\n",
       "        vertical-align: top;\n",
       "    }\n",
       "\n",
       "    .dataframe thead th {\n",
       "        text-align: right;\n",
       "    }\n",
       "</style>\n",
       "<table border=\"1\" class=\"dataframe\">\n",
       "  <thead>\n",
       "    <tr style=\"text-align: right;\">\n",
       "      <th></th>\n",
       "      <th>Date</th>\n",
       "      <th>Open</th>\n",
       "      <th>High</th>\n",
       "      <th>Low</th>\n",
       "      <th>Close</th>\n",
       "      <th>Adj Close</th>\n",
       "      <th>Volume</th>\n",
       "      <th>delta_prev_day</th>\n",
       "      <th>binary_change</th>\n",
       "    </tr>\n",
       "  </thead>\n",
       "  <tbody>\n",
       "    <tr>\n",
       "      <th>0</th>\n",
       "      <td>1928-01-03</td>\n",
       "      <td>17.760000</td>\n",
       "      <td>17.760000</td>\n",
       "      <td>17.760000</td>\n",
       "      <td>17.760000</td>\n",
       "      <td>17.760000</td>\n",
       "      <td>0</td>\n",
       "      <td>NaN</td>\n",
       "      <td>0</td>\n",
       "    </tr>\n",
       "    <tr>\n",
       "      <th>1</th>\n",
       "      <td>1928-01-04</td>\n",
       "      <td>17.719999</td>\n",
       "      <td>17.719999</td>\n",
       "      <td>17.719999</td>\n",
       "      <td>17.719999</td>\n",
       "      <td>17.719999</td>\n",
       "      <td>0</td>\n",
       "      <td>-0.040001</td>\n",
       "      <td>0</td>\n",
       "    </tr>\n",
       "    <tr>\n",
       "      <th>2</th>\n",
       "      <td>1928-01-05</td>\n",
       "      <td>17.549999</td>\n",
       "      <td>17.549999</td>\n",
       "      <td>17.549999</td>\n",
       "      <td>17.549999</td>\n",
       "      <td>17.549999</td>\n",
       "      <td>0</td>\n",
       "      <td>-0.170000</td>\n",
       "      <td>0</td>\n",
       "    </tr>\n",
       "    <tr>\n",
       "      <th>3</th>\n",
       "      <td>1928-01-06</td>\n",
       "      <td>17.660000</td>\n",
       "      <td>17.660000</td>\n",
       "      <td>17.660000</td>\n",
       "      <td>17.660000</td>\n",
       "      <td>17.660000</td>\n",
       "      <td>0</td>\n",
       "      <td>0.110001</td>\n",
       "      <td>1</td>\n",
       "    </tr>\n",
       "    <tr>\n",
       "      <th>4</th>\n",
       "      <td>1928-01-09</td>\n",
       "      <td>17.500000</td>\n",
       "      <td>17.500000</td>\n",
       "      <td>17.500000</td>\n",
       "      <td>17.500000</td>\n",
       "      <td>17.500000</td>\n",
       "      <td>0</td>\n",
       "      <td>-0.160000</td>\n",
       "      <td>0</td>\n",
       "    </tr>\n",
       "    <tr>\n",
       "      <th>...</th>\n",
       "      <td>...</td>\n",
       "      <td>...</td>\n",
       "      <td>...</td>\n",
       "      <td>...</td>\n",
       "      <td>...</td>\n",
       "      <td>...</td>\n",
       "      <td>...</td>\n",
       "      <td>...</td>\n",
       "      <td>...</td>\n",
       "    </tr>\n",
       "    <tr>\n",
       "      <th>23323</th>\n",
       "      <td>2020-11-06</td>\n",
       "      <td>3508.340088</td>\n",
       "      <td>3521.580078</td>\n",
       "      <td>3484.340088</td>\n",
       "      <td>3509.439941</td>\n",
       "      <td>3509.439941</td>\n",
       "      <td>4833950000</td>\n",
       "      <td>22.600098</td>\n",
       "      <td>1</td>\n",
       "    </tr>\n",
       "    <tr>\n",
       "      <th>23324</th>\n",
       "      <td>2020-11-09</td>\n",
       "      <td>3583.040039</td>\n",
       "      <td>3645.989990</td>\n",
       "      <td>3547.479980</td>\n",
       "      <td>3550.500000</td>\n",
       "      <td>3550.500000</td>\n",
       "      <td>8556610000</td>\n",
       "      <td>74.699951</td>\n",
       "      <td>1</td>\n",
       "    </tr>\n",
       "    <tr>\n",
       "      <th>23325</th>\n",
       "      <td>2020-11-10</td>\n",
       "      <td>3543.260010</td>\n",
       "      <td>3557.219971</td>\n",
       "      <td>3511.909912</td>\n",
       "      <td>3545.530029</td>\n",
       "      <td>3545.530029</td>\n",
       "      <td>6024230000</td>\n",
       "      <td>-39.780029</td>\n",
       "      <td>0</td>\n",
       "    </tr>\n",
       "    <tr>\n",
       "      <th>23326</th>\n",
       "      <td>2020-11-11</td>\n",
       "      <td>3563.219971</td>\n",
       "      <td>3581.159912</td>\n",
       "      <td>3557.000000</td>\n",
       "      <td>3572.659912</td>\n",
       "      <td>3572.659912</td>\n",
       "      <td>4609970000</td>\n",
       "      <td>19.959961</td>\n",
       "      <td>1</td>\n",
       "    </tr>\n",
       "    <tr>\n",
       "      <th>23327</th>\n",
       "      <td>2020-11-12</td>\n",
       "      <td>3562.669922</td>\n",
       "      <td>3569.020020</td>\n",
       "      <td>3518.580078</td>\n",
       "      <td>3537.010010</td>\n",
       "      <td>3537.010010</td>\n",
       "      <td>4890120000</td>\n",
       "      <td>-0.550049</td>\n",
       "      <td>0</td>\n",
       "    </tr>\n",
       "  </tbody>\n",
       "</table>\n",
       "<p>23328 rows × 9 columns</p>\n",
       "</div>"
      ],
      "text/plain": [
       "             Date         Open         High          Low        Close  \\\n",
       "0      1928-01-03    17.760000    17.760000    17.760000    17.760000   \n",
       "1      1928-01-04    17.719999    17.719999    17.719999    17.719999   \n",
       "2      1928-01-05    17.549999    17.549999    17.549999    17.549999   \n",
       "3      1928-01-06    17.660000    17.660000    17.660000    17.660000   \n",
       "4      1928-01-09    17.500000    17.500000    17.500000    17.500000   \n",
       "...           ...          ...          ...          ...          ...   \n",
       "23323  2020-11-06  3508.340088  3521.580078  3484.340088  3509.439941   \n",
       "23324  2020-11-09  3583.040039  3645.989990  3547.479980  3550.500000   \n",
       "23325  2020-11-10  3543.260010  3557.219971  3511.909912  3545.530029   \n",
       "23326  2020-11-11  3563.219971  3581.159912  3557.000000  3572.659912   \n",
       "23327  2020-11-12  3562.669922  3569.020020  3518.580078  3537.010010   \n",
       "\n",
       "         Adj Close      Volume  delta_prev_day  binary_change  \n",
       "0        17.760000           0             NaN              0  \n",
       "1        17.719999           0       -0.040001              0  \n",
       "2        17.549999           0       -0.170000              0  \n",
       "3        17.660000           0        0.110001              1  \n",
       "4        17.500000           0       -0.160000              0  \n",
       "...            ...         ...             ...            ...  \n",
       "23323  3509.439941  4833950000       22.600098              1  \n",
       "23324  3550.500000  8556610000       74.699951              1  \n",
       "23325  3545.530029  6024230000      -39.780029              0  \n",
       "23326  3572.659912  4609970000       19.959961              1  \n",
       "23327  3537.010010  4890120000       -0.550049              0  \n",
       "\n",
       "[23328 rows x 9 columns]"
      ]
     },
     "execution_count": 10,
     "metadata": {},
     "output_type": "execute_result"
    }
   ],
   "source": [
    "df"
   ]
  },
  {
   "cell_type": "code",
   "execution_count": 11,
   "metadata": {},
   "outputs": [
    {
     "data": {
      "text/plain": [
       "1    12580\n",
       "0    10748\n",
       "Name: binary_change, dtype: int64"
      ]
     },
     "execution_count": 11,
     "metadata": {},
     "output_type": "execute_result"
    }
   ],
   "source": [
    "df.binary_change.value_counts()\n",
    "#1    12580\n",
    "#0    10748\n",
    "\n",
    "#The index increased 12580 times and declined 10748 times throughout 1928-2020. "
   ]
  },
  {
   "cell_type": "code",
   "execution_count": 12,
   "metadata": {},
   "outputs": [
    {
     "data": {
      "text/plain": [
       "-3.6346420459663156"
      ]
     },
     "execution_count": 12,
     "metadata": {},
     "output_type": "execute_result"
    }
   ],
   "source": [
    "#Boolean mask: \n",
    "df.delta_prev_day[df.binary_change==0].mean()\n",
    "#-3.6346420459663156\n",
    "\n",
    "#The index declined by 3.63 points on average on \"negative days\" (i.e., days in which the index declined)."
   ]
  },
  {
   "cell_type": "code",
   "execution_count": 13,
   "metadata": {},
   "outputs": [
    {
     "data": {
      "text/plain": [
       "3.3868368831478537"
      ]
     },
     "execution_count": 13,
     "metadata": {},
     "output_type": "execute_result"
    }
   ],
   "source": [
    "#Boolean mask: \n",
    "df.delta_prev_day[df.binary_change==1].mean()\n",
    "#3.3868368831478537\n",
    "\n",
    "#The index increased by 3.38 points on average on \"positive days\" (i.e., days in which the index declined)."
   ]
  },
  {
   "cell_type": "code",
   "execution_count": null,
   "metadata": {},
   "outputs": [],
   "source": []
  },
  {
   "cell_type": "code",
   "execution_count": null,
   "metadata": {},
   "outputs": [],
   "source": []
  },
  {
   "cell_type": "markdown",
   "metadata": {},
   "source": [
    "# Section 3: Train Test Split"
   ]
  },
  {
   "cell_type": "markdown",
   "metadata": {},
   "source": [
    "We can then fit the stepwise_model object to a training data set. Because this is a time series forecast, we will “chop off” a portion of our latest data and use that as the test set. Then we will train on the rest of the data and forecast into the future. Afterwards we can compare our forecast with the section of data we chopped off."
   ]
  },
  {
   "cell_type": "markdown",
   "metadata": {},
   "source": [
    "We’ll train on 83 years of data (i.e., 1928-2010), and we test our forecast on the years after that and compare it to the real data:"
   ]
  },
  {
   "cell_type": "code",
   "execution_count": 39,
   "metadata": {},
   "outputs": [],
   "source": [
    "#df.to_csv('/home/nico/Desktop/save1.csv')\n",
    "\n",
    "#https://www.w3resource.com/pandas/dataframe/dataframe-set_index.php\n",
    "df.set_index('Date', drop=False, inplace=True )\n",
    "#del df['Unnamed: 0']\n"
   ]
  },
  {
   "cell_type": "code",
   "execution_count": 42,
   "metadata": {},
   "outputs": [],
   "source": [
    "df.head(2)\n",
    "df.to_csv('/home/nico/Desktop/save2.csv')\n",
    "\n",
    "#df.to_csv('/home/nico/Desktop/trialllllllllll1.csv')"
   ]
  },
  {
   "cell_type": "code",
   "execution_count": 48,
   "metadata": {},
   "outputs": [],
   "source": [
    "train = df.loc['1928-01-03':'2010-12-31']\n",
    "test = df.loc['2011-01-03':]"
   ]
  },
  {
   "cell_type": "code",
   "execution_count": 72,
   "metadata": {},
   "outputs": [
    {
     "data": {
      "text/plain": [
       "pandas.core.frame.DataFrame"
      ]
     },
     "execution_count": 72,
     "metadata": {},
     "output_type": "execute_result"
    }
   ],
   "source": [
    "type(test )"
   ]
  },
  {
   "cell_type": "code",
   "execution_count": null,
   "metadata": {},
   "outputs": [],
   "source": []
  },
  {
   "cell_type": "code",
   "execution_count": null,
   "metadata": {},
   "outputs": [],
   "source": []
  },
  {
   "cell_type": "markdown",
   "metadata": {},
   "source": [
    "# Section 4: Custom SARIMA model"
   ]
  },
  {
   "cell_type": "code",
   "execution_count": 4,
   "metadata": {},
   "outputs": [],
   "source": [
    "# Try some custom ARIMA models: "
   ]
  },
  {
   "cell_type": "code",
   "execution_count": 90,
   "metadata": {},
   "outputs": [],
   "source": [
    "import warnings\n",
    "import itertools\n",
    "import numpy as np\n",
    "import matplotlib.pyplot as plt\n",
    "import pandas as pd\n",
    "import statsmodels.api as sm\n",
    "import matplotlib\n",
    "import pmdarima as pm"
   ]
  },
  {
   "cell_type": "code",
   "execution_count": 114,
   "metadata": {},
   "outputs": [
    {
     "name": "stderr",
     "output_type": "stream",
     "text": [
      "/home/nico/.pyenv/versions/3.7.7/envs/lewagon/lib/python3.7/site-packages/statsmodels/tsa/base/tsa_model.py:218: ValueWarning: A date index has been provided, but it has no associated frequency information and so will be ignored when e.g. forecasting.\n",
      "  ' ignored when e.g. forecasting.', ValueWarning)\n",
      "/home/nico/.pyenv/versions/3.7.7/envs/lewagon/lib/python3.7/site-packages/statsmodels/tsa/base/tsa_model.py:218: ValueWarning: A date index has been provided, but it has no associated frequency information and so will be ignored when e.g. forecasting.\n",
      "  ' ignored when e.g. forecasting.', ValueWarning)\n",
      "/home/nico/.pyenv/versions/3.7.7/envs/lewagon/lib/python3.7/site-packages/statsmodels/tsa/base/tsa_model.py:583: ValueWarning: No supported index is available. Prediction results will be given with an integer index beginning at `start`.\n",
      "  ValueWarning)\n"
     ]
    }
   ],
   "source": [
    "from statsmodels.tsa.statespace.sarimax import SARIMAX\n",
    "\n",
    "mod = SARIMAX(train.Open,\n",
    "            order=(1,2,1),\n",
    "            seasonal_order=(1,2,1, 7),\n",
    "            enforce_stationarity=False,\n",
    "            enforce_invertibility=False)\n",
    "\n",
    "results = mod.fit()\n",
    "#https://stackoverflow.com/questions/59240565/why-doesnt-python-statsmodels-sarimax-predict-work\n",
    "test.shape[0]\n",
    "future_forecast = results.forecast(steps=2484)\n",
    "future_forecast.index=pd.DatetimeIndex(test.index.values)\n",
    "\n"
   ]
  },
  {
   "cell_type": "code",
   "execution_count": 141,
   "metadata": {},
   "outputs": [
    {
     "data": {
      "text/plain": [
       "<AxesSubplot:xlabel='Date'>"
      ]
     },
     "execution_count": 141,
     "metadata": {},
     "output_type": "execute_result"
    },
    {
     "data": {
      "image/png": "[encoded data removed]",
      "text/plain": [
       "<Figure size 432x288 with 1 Axes>"
      ]
     },
     "metadata": {
      "needs_background": "light"
     },
     "output_type": "display_data"
    }
   ],
   "source": [
    "type(future_forecast)\n",
    "future_forecast_df = pd.DataFrame(future_forecast,index = test.index, columns=['Prediction'])\n",
    "pd.concat([test.Open,future_forecast_df],axis=1).plot()\n"
   ]
  },
  {
   "cell_type": "code",
   "execution_count": 142,
   "metadata": {},
   "outputs": [
    {
     "data": {
      "text/plain": [
       "<AxesSubplot:>"
      ]
     },
     "execution_count": 142,
     "metadata": {},
     "output_type": "execute_result"
    },
    {
     "data": {
      "image/png": "[encoded data removed]",
      "text/plain": [
       "<Figure size 432x288 with 1 Axes>"
      ]
     },
     "metadata": {
      "needs_background": "light"
     },
     "output_type": "display_data"
    }
   ],
   "source": [
    "pd.concat([df.Open,future_forecast_df],axis=1).plot()"
   ]
  },
  {
   "cell_type": "code",
   "execution_count": 122,
   "metadata": {},
   "outputs": [
    {
     "name": "stdout",
     "output_type": "stream",
     "text": [
      "                                     SARIMAX Results                                     \n",
      "=========================================================================================\n",
      "Dep. Variable:                              Open   No. Observations:                20844\n",
      "Model:             SARIMAX(1, 2, 1)x(1, 2, 1, 7)   Log Likelihood              -71332.970\n",
      "Date:                           Sat, 14 Nov 2020   AIC                         142675.940\n",
      "Time:                                   12:41:51   BIC                         142715.659\n",
      "Sample:                                        0   HQIC                        142688.910\n",
      "                                         - 20844                                         \n",
      "Covariance Type:                             opg                                         \n",
      "==============================================================================\n",
      "                 coef    std err          z      P>|z|      [0.025      0.975]\n",
      "------------------------------------------------------------------------------\n",
      "ar.L1         -0.0304      0.002    -13.630      0.000      -0.035      -0.026\n",
      "ma.L1         -1.0000      0.045    -22.180      0.000      -1.088      -0.912\n",
      "ar.S.L7       -0.5112      0.002   -287.289      0.000      -0.515      -0.508\n",
      "ma.S.L7       -1.0000      0.145     -6.900      0.000      -1.284      -0.716\n",
      "sigma2        55.5570      8.735      6.361      0.000      38.438      72.676\n",
      "===================================================================================\n",
      "Ljung-Box (Q):                     3730.84   Jarque-Bera (JB):           1082757.50\n",
      "Prob(Q):                              0.00   Prob(JB):                         0.00\n",
      "Heteroskedasticity (H):            2199.66   Skew:                             0.17\n",
      "Prob(H) (two-sided):                  0.00   Kurtosis:                        38.33\n",
      "===================================================================================\n",
      "\n",
      "Warnings:\n",
      "[1] Covariance matrix calculated using the outer product of gradients (complex-step).\n"
     ]
    }
   ],
   "source": [
    "print(results.summary())\n"
   ]
  },
  {
   "cell_type": "markdown",
   "metadata": {},
   "source": [
    "# SARIMA model (stronger MA effects)"
   ]
  },
  {
   "cell_type": "code",
   "execution_count": 151,
   "metadata": {},
   "outputs": [
    {
     "name": "stderr",
     "output_type": "stream",
     "text": [
      "/home/nico/.pyenv/versions/3.7.7/envs/lewagon/lib/python3.7/site-packages/statsmodels/tsa/base/tsa_model.py:218: ValueWarning: A date index has been provided, but it has no associated frequency information and so will be ignored when e.g. forecasting.\n",
      "  ' ignored when e.g. forecasting.', ValueWarning)\n",
      "/home/nico/.pyenv/versions/3.7.7/envs/lewagon/lib/python3.7/site-packages/statsmodels/tsa/base/tsa_model.py:218: ValueWarning: A date index has been provided, but it has no associated frequency information and so will be ignored when e.g. forecasting.\n",
      "  ' ignored when e.g. forecasting.', ValueWarning)\n",
      "/home/nico/.pyenv/versions/3.7.7/envs/lewagon/lib/python3.7/site-packages/statsmodels/tsa/base/tsa_model.py:583: ValueWarning: No supported index is available. Prediction results will be given with an integer index beginning at `start`.\n",
      "  ValueWarning)\n"
     ]
    }
   ],
   "source": [
    "from statsmodels.tsa.statespace.sarimax import SARIMAX\n",
    "\n",
    "mod = SARIMAX(train.Open,\n",
    "            order=(1,2,3),\n",
    "            seasonal_order=(1,2,1, 7), \n",
    "            enforce_stationarity=False,\n",
    "            enforce_invertibility=False)\n",
    "\n",
    "results = mod.fit()\n",
    "#https://stackoverflow.com/questions/59240565/why-doesnt-python-statsmodels-sarimax-predict-work\n",
    "test.shape[0]\n",
    "future_forecast = results.forecast(steps=2484)\n",
    "future_forecast.index=pd.DatetimeIndex(test.index.values)"
   ]
  },
  {
   "cell_type": "code",
   "execution_count": 152,
   "metadata": {},
   "outputs": [
    {
     "data": {
      "text/plain": [
       "<AxesSubplot:xlabel='Date'>"
      ]
     },
     "execution_count": 152,
     "metadata": {},
     "output_type": "execute_result"
    },
    {
     "data": {
      "image/png": "[encoded data removed]",
      "text/plain": [
       "<Figure size 432x288 with 1 Axes>"
      ]
     },
     "metadata": {
      "needs_background": "light"
     },
     "output_type": "display_data"
    }
   ],
   "source": [
    "type(future_forecast)\n",
    "future_forecast_df = pd.DataFrame(future_forecast,index = test.index, columns=['Prediction'])\n",
    "pd.concat([test.Open,future_forecast_df],axis=1).plot()\n"
   ]
  },
  {
   "cell_type": "code",
   "execution_count": 153,
   "metadata": {},
   "outputs": [
    {
     "data": {
      "text/plain": [
       "<AxesSubplot:>"
      ]
     },
     "execution_count": 153,
     "metadata": {},
     "output_type": "execute_result"
    },
    {
     "data": {
      "image/png": "[encoded data removed]",
      "text/plain": [
       "<Figure size 432x288 with 1 Axes>"
      ]
     },
     "metadata": {
      "needs_background": "light"
     },
     "output_type": "display_data"
    }
   ],
   "source": [
    "pd.concat([df.Open,future_forecast_df],axis=1).plot()"
   ]
  },
  {
   "cell_type": "code",
   "execution_count": null,
   "metadata": {},
   "outputs": [],
   "source": [
    "# SARIMA model (stronger seasonal effects and weaker AR effects)"
   ]
  },
  {
   "cell_type": "code",
   "execution_count": 154,
   "metadata": {},
   "outputs": [
    {
     "name": "stderr",
     "output_type": "stream",
     "text": [
      "/home/nico/.pyenv/versions/3.7.7/envs/lewagon/lib/python3.7/site-packages/statsmodels/tsa/base/tsa_model.py:218: ValueWarning: A date index has been provided, but it has no associated frequency information and so will be ignored when e.g. forecasting.\n",
      "  ' ignored when e.g. forecasting.', ValueWarning)\n",
      "/home/nico/.pyenv/versions/3.7.7/envs/lewagon/lib/python3.7/site-packages/statsmodels/tsa/base/tsa_model.py:218: ValueWarning: A date index has been provided, but it has no associated frequency information and so will be ignored when e.g. forecasting.\n",
      "  ' ignored when e.g. forecasting.', ValueWarning)\n",
      "/home/nico/.pyenv/versions/3.7.7/envs/lewagon/lib/python3.7/site-packages/statsmodels/tsa/base/tsa_model.py:583: ValueWarning: No supported index is available. Prediction results will be given with an integer index beginning at `start`.\n",
      "  ValueWarning)\n"
     ]
    },
    {
     "data": {
      "text/plain": [
       "<AxesSubplot:xlabel='Date'>"
      ]
     },
     "execution_count": 154,
     "metadata": {},
     "output_type": "execute_result"
    },
    {
     "data": {
      "image/png": "[encoded data removed]",
      "text/plain": [
       "<Figure size 432x288 with 1 Axes>"
      ]
     },
     "metadata": {
      "needs_background": "light"
     },
     "output_type": "display_data"
    }
   ],
   "source": [
    "from statsmodels.tsa.statespace.sarimax import SARIMAX\n",
    "\n",
    "mod = SARIMAX(train.Open,\n",
    "            order=(0,2,3),\n",
    "            seasonal_order=(1,2,1, 7), \n",
    "            enforce_stationarity=False,\n",
    "            enforce_invertibility=False)\n",
    "\n",
    "results = mod.fit()\n",
    "#https://stackoverflow.com/questions/59240565/why-doesnt-python-statsmodels-sarimax-predict-work\n",
    "test.shape[0]\n",
    "future_forecast = results.forecast(steps=2484)\n",
    "future_forecast.index=pd.DatetimeIndex(test.index.values)\n",
    "\n",
    "type(future_forecast)\n",
    "future_forecast_df = pd.DataFrame(future_forecast,index = test.index, columns=['Prediction'])\n",
    "pd.concat([test.Open,future_forecast_df],axis=1).plot()"
   ]
  },
  {
   "cell_type": "code",
   "execution_count": null,
   "metadata": {},
   "outputs": [],
   "source": []
  }
 ],
 "metadata": {
  "kernelspec": {
   "display_name": "Python 3",
   "language": "python",
   "name": "python3"
  },
  "language_info": {
   "codemirror_mode": {
    "name": "ipython",
    "version": 3
   },
   "file_extension": ".py",
   "mimetype": "text/x-python",
   "name": "python",
   "nbconvert_exporter": "python",
   "pygments_lexer": "ipython3",
   "version": "3.7.7"
  }
 },
 "nbformat": 4,
 "nbformat_minor": 4
}
